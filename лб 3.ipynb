{
 "cells": [
  {
   "cell_type": "code",
   "execution_count": 1,
   "id": "2178fec0",
   "metadata": {},
   "outputs": [],
   "source": [
    "class HashTable:\n",
    "    def __init__(self, size, collision_resolution):\n",
    "        self.size = size\n",
    "        self.table = [None] * size\n",
    "        self.collision_resolution = collision_resolution\n",
    "        self.collisions = 0\n",
    "\n",
    "    def hash_function(self, key):\n",
    "        \n",
    "        if self.size & (self.size - 1) == 0:\n",
    "            A = 0.6180339887\n",
    "            hash_value = int(self.size * ((hash(key) * A) % 1))\n",
    "        else:\n",
    "            \n",
    "            hash_value = hash(key) % self.size\n",
    "\n",
    "        return hash_value\n",
    "\n",
    "    def insert(self, key, data):\n",
    "        index = self.hash_function(key)\n",
    "\n",
    "        if self.table[index] is not None:\n",
    "            if self.collision_resolution == \"linear\":\n",
    "                while self.table[index] is not None:\n",
    "                    index = (index + 1) % self.size\n",
    "            elif self.collision_resolution == \"quadratic\":\n",
    "                i = 1\n",
    "                while self.table[index] is not None:\n",
    "                    index = (index + i ** 2) % self.size\n",
    "                    i += 1\n",
    "            elif self.collision_resolution == \"chaining\":\n",
    "                if not isinstance(self.table[index], list):\n",
    "                    self.table[index] = [self.table[index]]\n",
    "                    self.collisions += 1\n",
    "                self.table[index].append((key, data))\n",
    "                return\n",
    "\n",
    "            self.collisions += 1\n",
    "\n",
    "        self.table[index] = (key, data)\n",
    "\n",
    "    def search(self, key):\n",
    "        index = self.hash_function(key)\n",
    "\n",
    "        if self.collision_resolution == \"chaining\" and isinstance(self.table[index], list):\n",
    "            for item in self.table[index]:\n",
    "                if item[0] == key:\n",
    "                    return item[1], self.collisions\n",
    "        elif self.table[index] is not None and self.table[index][0] == key:\n",
    "            return self.table[index][1], self.collisions\n",
    "\n",
    "        return None, self.collisions"
   ]
  },
  {
   "cell_type": "code",
   "execution_count": 2,
   "id": "c77358dd",
   "metadata": {},
   "outputs": [],
   "source": [
    "hash_table_size = 29\n",
    "collision_resolution_method = \"chaining\""
   ]
  },
  {
   "cell_type": "code",
   "execution_count": 3,
   "id": "56dd5f63",
   "metadata": {},
   "outputs": [],
   "source": [
    "hash_table = HashTable(hash_table_size, collision_resolution_method)"
   ]
  },
  {
   "cell_type": "code",
   "execution_count": 4,
   "id": "633e4403",
   "metadata": {},
   "outputs": [],
   "source": [
    "students_data = [\"Кирей\", \"Захожий\", \"Почерняєв\", \"Волошин\", \"Довгоселець\"]"
   ]
  },
  {
   "cell_type": "code",
   "execution_count": 5,
   "id": "6ca10f2c",
   "metadata": {},
   "outputs": [],
   "source": [
    "for i, student in enumerate(students_data):\n",
    "    key = student[:12]\n",
    "    hash_table.insert(key, i + 1)"
   ]
  },
  {
   "cell_type": "code",
   "execution_count": 6,
   "id": "a3dcd7ba",
   "metadata": {},
   "outputs": [],
   "source": [
    "search_key = \"Захожий\"\n",
    "result, num_collisions = hash_table.search(search_key)"
   ]
  },
  {
   "cell_type": "code",
   "execution_count": 7,
   "id": "23b778b6",
   "metadata": {},
   "outputs": [
    {
     "name": "stdout",
     "output_type": "stream",
     "text": [
      "Результат пошуку за ключем 'Захожий': 2\n",
      "Кількість колізій під час пошуку: 0\n",
      "\n",
      "Хеш-таблиця:\n",
      "Індекс 1: Ключ = Почерняєв, Дані = 3\n",
      "Індекс 16: Ключ = Кирей, Дані = 1\n",
      "Індекс 26: Ключ = Захожий, Дані = 2\n",
      "Індекс 27: Ключ = Волошин, Дані = 4\n",
      "Індекс 28: Ключ = Довгоселець, Дані = 5\n"
     ]
    }
   ],
   "source": [
    "print(f\"Результат пошуку за ключем '{search_key}': {result}\")\n",
    "print(f\"Кількість колізій під час пошуку: {num_collisions}\")\n",
    "print(\"\\nХеш-таблиця:\")\n",
    "for i, item in enumerate(hash_table.table):\n",
    "    if item is not None:\n",
    "        print(f\"Індекс {i}: Ключ = {item[0]}, Дані = {item[1]}\")"
   ]
  },
  {
   "cell_type": "code",
   "execution_count": null,
   "id": "015242da",
   "metadata": {},
   "outputs": [],
   "source": []
  }
 ],
 "metadata": {
  "kernelspec": {
   "display_name": "Python 3 (ipykernel)",
   "language": "python",
   "name": "python3"
  },
  "language_info": {
   "codemirror_mode": {
    "name": "ipython",
    "version": 3
   },
   "file_extension": ".py",
   "mimetype": "text/x-python",
   "name": "python",
   "nbconvert_exporter": "python",
   "pygments_lexer": "ipython3",
   "version": "3.11.5"
  }
 },
 "nbformat": 4,
 "nbformat_minor": 5
}
