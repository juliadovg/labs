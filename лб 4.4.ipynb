{
 "cells": [
  {
   "cell_type": "code",
   "execution_count": 18,
   "id": "5248f4be",
   "metadata": {},
   "outputs": [],
   "source": [
    "import random"
   ]
  },
  {
   "cell_type": "code",
   "execution_count": 19,
   "id": "0363a798",
   "metadata": {},
   "outputs": [],
   "source": [
    "class TreeNode:\n",
    "    def __init__(self, key):\n",
    "        self.key = key\n",
    "        self.left = None\n",
    "        self.right = None"
   ]
  },
  {
   "cell_type": "code",
   "execution_count": 20,
   "id": "2be703a9",
   "metadata": {},
   "outputs": [],
   "source": [
    "def insert(root, key):\n",
    "    if not root:\n",
    "        return TreeNode(key)\n",
    "    if key < root.key:\n",
    "        root.left = insert(root.left, key)\n",
    "    else:\n",
    "        root.right = insert(root.right, key)\n",
    "    return root"
   ]
  },
  {
   "cell_type": "code",
   "execution_count": 21,
   "id": "42f21f53",
   "metadata": {},
   "outputs": [],
   "source": [
    "def delete(root, key):\n",
    "    if not root:\n",
    "        return root\n",
    "    if key < root.key:\n",
    "        root.left = delete(root.left, key)\n",
    "    elif key > root.key:\n",
    "        root.right = delete(root.right, key)\n",
    "    else:\n",
    "        if not root.left:\n",
    "            return root.right\n",
    "        elif not root.right:\n",
    "            return root.left\n",
    "        root.key = minValueNode(root.right)\n",
    "        root.right = delete(root.right, root.key)\n",
    "    return root"
   ]
  },
  {
   "cell_type": "code",
   "execution_count": 22,
   "id": "6bf2e542",
   "metadata": {},
   "outputs": [],
   "source": [
    "def minValueNode(node):\n",
    "    current = node\n",
    "    while current.left:\n",
    "        current = current.left\n",
    "    return current.key"
   ]
  },
  {
   "cell_type": "code",
   "execution_count": 23,
   "id": "31ff2db1",
   "metadata": {},
   "outputs": [],
   "source": [
    "def search(root, key):\n",
    "    if not root or root.key == key:\n",
    "        return root\n",
    "    if key < root.key:\n",
    "        return search(root.left, key)\n",
    "    return search(root.right, key)"
   ]
  },
  {
   "cell_type": "code",
   "execution_count": 24,
   "id": "11deb67e",
   "metadata": {},
   "outputs": [],
   "source": [
    "def getHeight(root):\n",
    "    if not root:\n",
    "        return 0\n",
    "    return 1 + max(getHeight(root.left), getHeight(root.right))"
   ]
  },
  {
   "cell_type": "code",
   "execution_count": 25,
   "id": "107fcd75",
   "metadata": {},
   "outputs": [],
   "source": [
    "root = None"
   ]
  },
  {
   "cell_type": "code",
   "execution_count": 26,
   "id": "14ed7e80",
   "metadata": {},
   "outputs": [],
   "source": [
    "random_numbers = random.sample(range(1, 100001), 100000)"
   ]
  },
  {
   "cell_type": "code",
   "execution_count": 27,
   "id": "ad146d46",
   "metadata": {},
   "outputs": [],
   "source": [
    "for number in random_numbers:\n",
    "    root = insert(root, number)"
   ]
  },
  {
   "cell_type": "code",
   "execution_count": 28,
   "id": "04d3d739",
   "metadata": {},
   "outputs": [
    {
     "name": "stdout",
     "output_type": "stream",
     "text": [
      "Висота незбалансованого дерева: 40\n"
     ]
    }
   ],
   "source": [
    "tree_height = getHeight(root)\n",
    "print(f\"Висота незбалансованого дерева: {tree_height}\")"
   ]
  },
  {
   "cell_type": "code",
   "execution_count": 29,
   "id": "76eaca2a",
   "metadata": {},
   "outputs": [],
   "source": [
    "search_key = random.choice(random_numbers)"
   ]
  },
  {
   "cell_type": "code",
   "execution_count": 30,
   "id": "431e2a08",
   "metadata": {},
   "outputs": [
    {
     "name": "stdout",
     "output_type": "stream",
     "text": [
      "Ключ 83759 знайдений у дереві.\n"
     ]
    }
   ],
   "source": [
    "found_node = search(root, search_key)\n",
    "if found_node:\n",
    "    print(f\"Ключ {search_key} знайдений у дереві.\")\n",
    "else:\n",
    "    print(f\"Ключ {search_key} не знайдений у дереві.\")"
   ]
  },
  {
   "cell_type": "code",
   "execution_count": 31,
   "id": "aa04452d",
   "metadata": {},
   "outputs": [],
   "source": [
    "delete_key = random.choice(random_numbers)"
   ]
  },
  {
   "cell_type": "code",
   "execution_count": 32,
   "id": "aebfd16d",
   "metadata": {},
   "outputs": [
    {
     "name": "stdout",
     "output_type": "stream",
     "text": [
      "Видаляємо ключ 17240.\n"
     ]
    }
   ],
   "source": [
    "root = delete(root, delete_key)\n",
    "print(f\"Видаляємо ключ {delete_key}.\")"
   ]
  },
  {
   "cell_type": "code",
   "execution_count": null,
   "id": "2bb52b0f",
   "metadata": {},
   "outputs": [],
   "source": []
  }
 ],
 "metadata": {
  "kernelspec": {
   "display_name": "Python 3 (ipykernel)",
   "language": "python",
   "name": "python3"
  },
  "language_info": {
   "codemirror_mode": {
    "name": "ipython",
    "version": 3
   },
   "file_extension": ".py",
   "mimetype": "text/x-python",
   "name": "python",
   "nbconvert_exporter": "python",
   "pygments_lexer": "ipython3",
   "version": "3.11.5"
  }
 },
 "nbformat": 4,
 "nbformat_minor": 5
}
