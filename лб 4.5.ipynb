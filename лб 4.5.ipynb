{
 "cells": [
  {
   "cell_type": "code",
   "execution_count": 1,
   "id": "28e1fcfa",
   "metadata": {},
   "outputs": [],
   "source": [
    "import random"
   ]
  },
  {
   "cell_type": "code",
   "execution_count": 2,
   "id": "a7147996",
   "metadata": {},
   "outputs": [],
   "source": [
    "class TreeNode:\n",
    "    def __init__(self, key):\n",
    "        self.key = key\n",
    "        self.left = None\n",
    "        self.right = None"
   ]
  },
  {
   "cell_type": "code",
   "execution_count": 3,
   "id": "466f99bf",
   "metadata": {},
   "outputs": [],
   "source": [
    "def insert(root, key):\n",
    "    if not root:\n",
    "        return TreeNode(key)\n",
    "    if key < root.key:\n",
    "        root.left = insert(root.left, key)\n",
    "    else:\n",
    "        root.right = insert(root.right, key)\n",
    "    return root"
   ]
  },
  {
   "cell_type": "code",
   "execution_count": 4,
   "id": "92d54464",
   "metadata": {},
   "outputs": [],
   "source": [
    "def delete(root, key):\n",
    "    if not root:\n",
    "        return root\n",
    "    if key < root.key:\n",
    "        root.left = delete(root.left, key)\n",
    "    elif key > root.key:\n",
    "        root.right = delete(root.right, key)\n",
    "    else:\n",
    "        if not root.left:\n",
    "            return root.right\n",
    "        elif not root.right:\n",
    "            return root.left\n",
    "        root.key = minValueNode(root.right)\n",
    "        root.right = delete(root.right, root.key)\n",
    "    return root"
   ]
  },
  {
   "cell_type": "code",
   "execution_count": 5,
   "id": "470c58cb",
   "metadata": {},
   "outputs": [],
   "source": [
    "def minValueNode(node):\n",
    "    current = node\n",
    "    while current.left:\n",
    "        current = current.left\n",
    "    return current.key"
   ]
  },
  {
   "cell_type": "code",
   "execution_count": 6,
   "id": "a1d34aa3",
   "metadata": {},
   "outputs": [],
   "source": [
    "def search(root, key):\n",
    "    if not root or root.key == key:\n",
    "        return root\n",
    "    if key < root.key:\n",
    "        return search(root.left, key)\n",
    "    return search(root.right, key)"
   ]
  },
  {
   "cell_type": "code",
   "execution_count": 7,
   "id": "c739d638",
   "metadata": {},
   "outputs": [],
   "source": [
    "def getHeight(root):\n",
    "    if not root:\n",
    "        return 0\n",
    "    return 1 + max(getHeight(root.left), getHeight(root.right))"
   ]
  },
  {
   "cell_type": "code",
   "execution_count": 8,
   "id": "4400011b",
   "metadata": {},
   "outputs": [],
   "source": [
    "def shuffle_operations(operations):\n",
    "    random.shuffle(operations)\n",
    "    return operations"
   ]
  },
  {
   "cell_type": "code",
   "execution_count": 9,
   "id": "4b12829c",
   "metadata": {},
   "outputs": [],
   "source": [
    "def perform_operations(root, operations):\n",
    "    metrics = OperationMetrics()\n",
    "    for operation, key in operations:\n",
    "        if operation == \"search\":\n",
    "            search(root, key)\n",
    "        elif operation == \"insert\":\n",
    "            root = insert(root, key)\n",
    "        elif operation == \"delete\":\n",
    "            root = delete(root, key)\n",
    "    return metrics"
   ]
  },
  {
   "cell_type": "code",
   "execution_count": 10,
   "id": "72fc7d9a",
   "metadata": {},
   "outputs": [],
   "source": [
    "class OperationMetrics:\n",
    "    def __init__(self):\n",
    "        self.node_visits = 0\n",
    "        self.single_rotations = 0\n",
    "        self.double_rotations = 0\n",
    "        self.zig_zig_rotations = 0\n",
    "        self.zig_zag_rotations = 0"
   ]
  },
  {
   "cell_type": "code",
   "execution_count": 11,
   "id": "24ea4c2c",
   "metadata": {},
   "outputs": [],
   "source": [
    "def insert_with_metrics(root, key, metrics):\n",
    "    if not root:\n",
    "        return TreeNode(key), metrics\n",
    "    metrics.node_visits += 1\n",
    "    if key < root.key:\n",
    "        root.left, child_metrics = insert_with_metrics(root.left, key, metrics)\n",
    "        metrics.node_visits += child_metrics.node_visits\n",
    "        metrics.single_rotations += child_metrics.single_rotations\n",
    "        metrics.double_rotations += child_metrics.double_rotations\n",
    "        metrics.zig_zig_rotations += child_metrics.zig_zig_rotations\n",
    "        metrics.zig_zag_rotations += child_metrics.zig_zag_rotations\n",
    "    else:\n",
    "        root.right, child_metrics = insert_with_metrics(root.right, key, metrics)\n",
    "        metrics.node_visits += child_metrics.node_visits\n",
    "        metrics.single_rotations += child_metrics.single_rotations\n",
    "        metrics.double_rotations += child_metrics.double_rotations\n",
    "        metrics.zig_zig_rotations += child_metrics.zig_zig_rotations\n",
    "        metrics.zig_zag_rotations += child_metrics.zig_zag_rotations\n",
    "    return root, metrics"
   ]
  },
  {
   "cell_type": "code",
   "execution_count": 12,
   "id": "06f9e11c",
   "metadata": {},
   "outputs": [],
   "source": [
    "def delete_with_metrics(root, key, metrics):\n",
    "    if not root:\n",
    "        return root, metrics\n",
    "    metrics.node_visits += 1\n",
    "    if key < root.key:\n",
    "        root.left, child_metrics = delete_with_metrics(root.left, key, metrics)\n",
    "        metrics.node_visits += child_metrics.node_visits\n",
    "        metrics.single_rotations += child_metrics.single_rotations\n",
    "        metrics.double_rotations += child_metrics.double_rotations\n",
    "        metrics.zig_zig_rotations += child_metrics.zig_zig_rotations\n",
    "        metrics.zig_zag_rotations += child_metrics.zig_zag_rotations\n",
    "    elif key > root.key:\n",
    "        root.right, child_metrics = delete_with_metrics(root.right, key, metrics)\n",
    "        metrics.node_visits += child_metrics.node_visits\n",
    "        metrics.single_rotations += child_metrics.single_rotations\n",
    "        metrics.double_rotations += child_metrics.double_rotations\n",
    "        metrics.zig_zig_rotations += child_metrics.zig_zig_rotations\n",
    "        metrics.zig_zag_rotations += child_metrics.zig_zag_rotations\n",
    "    else:\n",
    "        metrics.single_rotations += 1  # Rotation during deletion\n",
    "        if not root.left:\n",
    "            return root.right, metrics\n",
    "        elif not root.right:\n",
    "            return root.left, metrics\n",
    "        root.key = minValueNode(root.right)\n",
    "        root.right, child_metrics = delete_with_metrics(root.right, root.key, metrics)\n",
    "        metrics.node_visits += child_metrics.node_visits\n",
    "        metrics.single_rotations += child_metrics.single_rotations\n",
    "        metrics.double_rotations += child_metrics.double_rotations\n",
    "        metrics.zig_zig_rotations += child_metrics.zig_zig_rotations\n",
    "        metrics.zig_zag_rotations += child_metrics.zig_zag_rotations\n",
    "    return root, metrics"
   ]
  },
  {
   "cell_type": "code",
   "execution_count": 13,
   "id": "908382d0",
   "metadata": {},
   "outputs": [],
   "source": [
    "def single_rotation_count(node):\n",
    "    if not node:\n",
    "        return 0\n",
    "    return 1 + single_rotation_count(node.left) + single_rotation_count(node.right)"
   ]
  },
  {
   "cell_type": "code",
   "execution_count": 14,
   "id": "c5dbe9c7",
   "metadata": {},
   "outputs": [],
   "source": [
    "def double_rotation_count(node):\n",
    "    if not node:\n",
    "        return 0\n",
    "    if node.left and node.right:\n",
    "        return 1 + double_rotation_count(node.left) + double_rotation_count(node.right)\n",
    "    return double_rotation_count(node.left) + double_rotation_count(node.right)"
   ]
  },
  {
   "cell_type": "code",
   "execution_count": 15,
   "id": "f254f818",
   "metadata": {},
   "outputs": [],
   "source": [
    "def zig_zig_rotation_count(node):\n",
    "    if not node or not node.left or not node.left.left:\n",
    "        return 0\n",
    "    return 1 + zig_zig_rotation_count(node.left) + zig_zig_rotation_count(node.left.left)"
   ]
  },
  {
   "cell_type": "code",
   "execution_count": 16,
   "id": "07e4677f",
   "metadata": {},
   "outputs": [],
   "source": [
    "def zig_zag_rotation_count(node):\n",
    "    if not node or not node.left or not node.left.right:\n",
    "        return 0\n",
    "    return 1 + zig_zag_rotation_count(node.left) + zig_zag_rotation_count(node.left.right)"
   ]
  },
  {
   "cell_type": "code",
   "execution_count": 17,
   "id": "62987590",
   "metadata": {},
   "outputs": [],
   "source": [
    "def conduct_experiment():\n",
    "    random_numbers = random.sample(range(1, 1000001), 1000000)\n",
    "\n",
    "    root = None\n",
    "    for number in random_numbers:\n",
    "        root = insert(root, number)\n",
    "\n",
    "    operations = [(\"search\", random.choice(random_numbers)) for _ in range(50000)] + \\\n",
    "                [(\"insert\", random.randint(1000001, 2000000)) for _ in range(50000)] + \\\n",
    "                [(\"delete\", random.choice(random_numbers)) for _ in range(50000)]\n",
    "\n",
    "    shuffled_operations = shuffle_operations(operations)\n",
    "\n",
    "    metrics = perform_operations(root, shuffled_operations)\n",
    "\n",
    "    single_rotations = single_rotation_count(root)\n",
    "    double_rotations = double_rotation_count(root)\n",
    "    zig_zig_rotations = zig_zig_rotation_count(root)\n",
    "    zig_zag_rotations = zig_zag_rotation_count(root)\n",
    "\n",
    "    normalized_single_rotations = metrics.single_rotations // len(shuffled_operations)\n",
    "    normalized_double_rotations = metrics.double_rotations // len(shuffled_operations)\n",
    "    normalized_zig_zig_rotations = metrics.zig_zig_rotations // len(shuffled_operations)\n",
    "    normalized_zig_zag_rotations = metrics.zig_zag_rotations // len(shuffled_operations)\n",
    "\n",
    "    return {\n",
    "        'height': getHeight(root),\n",
    "        'single_rotations': single_rotations,\n",
    "        'double_rotations': double_rotations,\n",
    "        'zig_zig_rotations': zig_zig_rotations,\n",
    "        'zig_zag_rotations': zig_zag_rotations,\n",
    "        'normalized_single_rotations': normalized_single_rotations,\n",
    "        'normalized_double_rotations': normalized_double_rotations,\n",
    "        'normalized_zig_zig_rotations': normalized_zig_zig_rotations,\n",
    "        'normalized_zig_zag_rotations': normalized_zig_zag_rotations\n",
    "    }"
   ]
  },
  {
   "cell_type": "code",
   "execution_count": 18,
   "id": "dad59707",
   "metadata": {},
   "outputs": [],
   "source": [
    "num_experiments = 10\n",
    "average_results = {\n",
    "    'height': 0,\n",
    "    'single_rotations': 0,\n",
    "    'double_rotations': 0,\n",
    "    'zig_zig_rotations': 0,\n",
    "    'zig_zag_rotations': 0,\n",
    "    'normalized_single_rotations': 0,\n",
    "    'normalized_double_rotations': 0,\n",
    "    'normalized_zig_zig_rotations': 0,\n",
    "    'normalized_zig_zag_rotations': 0\n",
    "}"
   ]
  },
  {
   "cell_type": "code",
   "execution_count": 19,
   "id": "6ede257b",
   "metadata": {},
   "outputs": [],
   "source": [
    "for _ in range(num_experiments):\n",
    "    results = conduct_experiment()\n",
    "    \n",
    "    for key in average_results.keys():\n",
    "        average_results[key] += results[key]"
   ]
  },
  {
   "cell_type": "code",
   "execution_count": 20,
   "id": "5ea93e66",
   "metadata": {},
   "outputs": [],
   "source": [
    "for key in average_results.keys():\n",
    "    average_results[key] /= num_experiments"
   ]
  },
  {
   "cell_type": "code",
   "execution_count": 21,
   "id": "fbfb0b43",
   "metadata": {},
   "outputs": [
    {
     "name": "stdout",
     "output_type": "stream",
     "text": [
      "Середні результати:\n",
      "Висота дерева: 53.8\n",
      "Середня кількість одиничних обертань: 1001226.2\n",
      "Середня кількість подвійних обертань: 334373.0\n",
      "Середня кількість ZigZig обертань: 1795.5\n",
      "Середня кількість ZigZag обертань: 1681.0\n",
      "Середня нормована кількість одиничних обертань: 0.0\n",
      "Середня нормована кількість подвійних обертань: 0.0\n",
      "Середня нормована кількість ZigZig обертань: 0.0\n",
      "Середня нормована кількість ZigZag обертань: 0.0\n"
     ]
    }
   ],
   "source": [
    "print(\"Середні результати:\")\n",
    "print(f\"Висота дерева: {average_results['height']}\")\n",
    "print(f\"Середня кількість одиничних обертань: {average_results['single_rotations']}\")\n",
    "print(f\"Середня кількість подвійних обертань: {average_results['double_rotations']}\")\n",
    "print(f\"Середня кількість ZigZig обертань: {average_results['zig_zig_rotations']}\")\n",
    "print(f\"Середня кількість ZigZag обертань: {average_results['zig_zag_rotations']}\")\n",
    "print(f\"Середня нормована кількість одиничних обертань: {average_results['normalized_single_rotations']}\")\n",
    "print(f\"Середня нормована кількість подвійних обертань: {average_results['normalized_double_rotations']}\")\n",
    "print(f\"Середня нормована кількість ZigZig обертань: {average_results['normalized_zig_zig_rotations']}\")\n",
    "print(f\"Середня нормована кількість ZigZag обертань: {average_results['normalized_zig_zag_rotations']}\")"
   ]
  },
  {
   "cell_type": "code",
   "execution_count": null,
   "id": "bbbc17b2",
   "metadata": {},
   "outputs": [],
   "source": []
  }
 ],
 "metadata": {
  "kernelspec": {
   "display_name": "Python 3 (ipykernel)",
   "language": "python",
   "name": "python3"
  },
  "language_info": {
   "codemirror_mode": {
    "name": "ipython",
    "version": 3
   },
   "file_extension": ".py",
   "mimetype": "text/x-python",
   "name": "python",
   "nbconvert_exporter": "python",
   "pygments_lexer": "ipython3",
   "version": "3.11.5"
  }
 },
 "nbformat": 4,
 "nbformat_minor": 5
}
