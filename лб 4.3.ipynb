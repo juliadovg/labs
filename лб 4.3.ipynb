{
 "cells": [
  {
   "cell_type": "code",
   "execution_count": 27,
   "id": "54167b84",
   "metadata": {},
   "outputs": [],
   "source": [
    "import random"
   ]
  },
  {
   "cell_type": "code",
   "execution_count": 28,
   "id": "420f345a",
   "metadata": {},
   "outputs": [],
   "source": [
    "class TreeNode:\n",
    "    def __init__(self, key):\n",
    "        self.key = key\n",
    "        self.left = None\n",
    "        self.right = None"
   ]
  },
  {
   "cell_type": "code",
   "execution_count": 29,
   "id": "89799942",
   "metadata": {},
   "outputs": [],
   "source": [
    "def insert(root, key):\n",
    "    if not root:\n",
    "        return TreeNode(key)\n",
    "    if key < root.key:\n",
    "        root.left = insert(root.left, key)\n",
    "    else:\n",
    "        root.right = insert(root.right, key)\n",
    "    return root"
   ]
  },
  {
   "cell_type": "code",
   "execution_count": 30,
   "id": "be1f27f7",
   "metadata": {},
   "outputs": [],
   "source": [
    "def delete(root, key):\n",
    "    if not root:\n",
    "        return root\n",
    "    if key < root.key:\n",
    "        root.left = delete(root.left, key)\n",
    "    elif key > root.key:\n",
    "        root.right = delete(root.right, key)\n",
    "    else:\n",
    "        if not root.left:\n",
    "            return root.right\n",
    "        elif not root.right:\n",
    "            return root.left\n",
    "        root.key = minValueNode(root.right)\n",
    "        root.right = delete(root.right, root.key)\n",
    "    return root"
   ]
  },
  {
   "cell_type": "code",
   "execution_count": 31,
   "id": "348cec58",
   "metadata": {},
   "outputs": [],
   "source": [
    "def minValueNode(node):\n",
    "    current = node\n",
    "    while current.left:\n",
    "        current = current.left\n",
    "    return current.key"
   ]
  },
  {
   "cell_type": "code",
   "execution_count": 32,
   "id": "9da5c952",
   "metadata": {},
   "outputs": [],
   "source": [
    "def search(root, key):\n",
    "    if not root or root.key == key:\n",
    "        return root\n",
    "    if key < root.key:\n",
    "        return search(root.left, key)\n",
    "    return search(root.right, key)"
   ]
  },
  {
   "cell_type": "code",
   "execution_count": 33,
   "id": "e75d7656",
   "metadata": {},
   "outputs": [],
   "source": [
    "def getHeight(root):\n",
    "    if not root:\n",
    "        return 0\n",
    "    return 1 + max(getHeight(root.left), getHeight(root.right))"
   ]
  },
  {
   "cell_type": "code",
   "execution_count": 34,
   "id": "51daebe9",
   "metadata": {},
   "outputs": [],
   "source": [
    "def shuffle_operations(operations):\n",
    "    random.shuffle(operations)\n",
    "    return operations"
   ]
  },
  {
   "cell_type": "code",
   "execution_count": 35,
   "id": "98585064",
   "metadata": {},
   "outputs": [],
   "source": [
    "random_numbers = random.sample(range(1, 1000001), 1000000)"
   ]
  },
  {
   "cell_type": "code",
   "execution_count": 36,
   "id": "5a8480a5",
   "metadata": {},
   "outputs": [],
   "source": [
    "root = None\n",
    "for number in random_numbers:\n",
    "    root = insert(root, number)"
   ]
  },
  {
   "cell_type": "code",
   "execution_count": 37,
   "id": "5d533c3c",
   "metadata": {},
   "outputs": [
    {
     "name": "stdout",
     "output_type": "stream",
     "text": [
      "Висота дерева: 52\n"
     ]
    }
   ],
   "source": [
    "tree_height = getHeight(root)\n",
    "print(f\"Висота дерева: {tree_height}\")"
   ]
  },
  {
   "cell_type": "code",
   "execution_count": 38,
   "id": "d0c2c49b",
   "metadata": {},
   "outputs": [],
   "source": [
    "operations = [(\"search\", random.choice(random_numbers)) for _ in range(50000)] + \\\n",
    "            [(\"insert\", random.randint(1000001, 2000000)) for _ in range(50000)] + \\\n",
    "            [(\"delete\", random.choice(random_numbers)) for _ in range(50000)]"
   ]
  },
  {
   "cell_type": "code",
   "execution_count": 39,
   "id": "84436ce3",
   "metadata": {},
   "outputs": [],
   "source": [
    "shuffled_operations = shuffle_operations(operations)"
   ]
  },
  {
   "cell_type": "code",
   "execution_count": 40,
   "id": "aec73f6c",
   "metadata": {},
   "outputs": [],
   "source": [
    "for operation, key in shuffled_operations:\n",
    "    if operation == \"search\":\n",
    "        search(root, key)\n",
    "    elif operation == \"insert\":\n",
    "        root = insert(root, key)\n",
    "    elif operation == \"delete\":\n",
    "        root = delete(root, key)"
   ]
  },
  {
   "cell_type": "code",
   "execution_count": 41,
   "id": "35db59c3",
   "metadata": {},
   "outputs": [],
   "source": [
    "class OperationMetrics:\n",
    "    def __init__(self):\n",
    "        self.node_visits = 0\n",
    "        self.single_rotations = 0\n",
    "        self.double_rotations = 0\n",
    "        self.zig_zig_rotations = 0\n",
    "        self.zig_zag_rotations = 0"
   ]
  },
  {
   "cell_type": "code",
   "execution_count": 42,
   "id": "468a0939",
   "metadata": {},
   "outputs": [],
   "source": [
    "def insert_with_metrics(root, key, metrics):\n",
    "    if not root:\n",
    "        return TreeNode(key), metrics\n",
    "    metrics.node_visits += 1\n",
    "    if key < root.key:\n",
    "        root.left, child_metrics = insert_with_metrics(root.left, key, metrics)\n",
    "        metrics.node_visits += child_metrics.node_visits\n",
    "        metrics.single_rotations += child_metrics.single_rotations\n",
    "        metrics.double_rotations += child_metrics.double_rotations\n",
    "        metrics.zig_zig_rotations += child_metrics.zig_zig_rotations\n",
    "        metrics.zig_zag_rotations += child_metrics.zig_zag_rotations\n",
    "    else:\n",
    "        root.right, child_metrics = insert_with_metrics(root.right, key, metrics)\n",
    "        metrics.node_visits += child_metrics.node_visits\n",
    "        metrics.single_rotations += child_metrics.single_rotations\n",
    "        metrics.double_rotations += child_metrics.double_rotations\n",
    "        metrics.zig_zig_rotations += child_metrics.zig_zig_rotations\n",
    "        metrics.zig_zag_rotations += child_metrics.zig_zag_rotations\n",
    "    return root, metrics"
   ]
  },
  {
   "cell_type": "code",
   "execution_count": 43,
   "id": "982a5ab6",
   "metadata": {},
   "outputs": [],
   "source": [
    "def delete_with_metrics(root, key, metrics):\n",
    "    if not root:\n",
    "        return root, metrics\n",
    "    metrics.node_visits += 1\n",
    "    if key < root.key:\n",
    "        root.left, child_metrics = delete_with_metrics(root.left, key, metrics)\n",
    "        metrics.node_visits += child_metrics.node_visits\n",
    "        metrics.single_rotations += child_metrics.single_rotations\n",
    "        metrics.double_rotations += child_metrics.double_rotations\n",
    "        metrics.zig_zig_rotations += child_metrics.zig_zig_rotations\n",
    "        metrics.zig_zag_rotations += child_metrics.zig_zag_rotations\n",
    "    elif key > root.key:\n",
    "        root.right, child_metrics = delete_with_metrics(root.right, key, metrics)\n",
    "        metrics.node_visits += child_metrics.node_visits\n",
    "        metrics.single_rotations += child_metrics.single_rotations\n",
    "        metrics.double_rotations += child_metrics.double_rotations\n",
    "        metrics.zig_zig_rotations += child_metrics.zig_zig_rotations\n",
    "        metrics.zig_zag_rotations += child_metrics.zig_zag_rotations\n",
    "    else:\n",
    "        metrics.single_rotations += 1  # Rotation during deletion\n",
    "        if not root.left:\n",
    "            return root.right, metrics\n",
    "        elif not root.right:\n",
    "            return root.left, metrics\n",
    "        root.key = minValueNode(root.right)\n",
    "        root.right, child_metrics = delete_with_metrics(root.right, root.key, metrics)\n",
    "        metrics.node_visits += child_metrics.node_visits\n",
    "        metrics.single_rotations += child_metrics.single_rotations\n",
    "        metrics.double_rotations += child_metrics.double_rotations\n",
    "        metrics.zig_zig_rotations += child_metrics.zig_zig_rotations\n",
    "        metrics.zig_zag_rotations += child_metrics.zig_zag_rotations\n",
    "    return root, metrics"
   ]
  },
  {
   "cell_type": "code",
   "execution_count": 44,
   "id": "ca22339c",
   "metadata": {},
   "outputs": [],
   "source": [
    "def single_rotation_count(node):\n",
    "    if not node:\n",
    "        return 0\n",
    "    return 1 + single_rotation_count(node.left) + single_rotation_count(node.right)"
   ]
  },
  {
   "cell_type": "code",
   "execution_count": 45,
   "id": "aeedeb80",
   "metadata": {},
   "outputs": [],
   "source": [
    "def double_rotation_count(node):\n",
    "    if not node:\n",
    "        return 0\n",
    "    if node.left and node.right:\n",
    "        return 1 + double_rotation_count(node.left) + double_rotation_count(node.right)\n",
    "    return double_rotation_count(node.left) + double_rotation_count(node.right)"
   ]
  },
  {
   "cell_type": "code",
   "execution_count": 46,
   "id": "d2202515",
   "metadata": {},
   "outputs": [],
   "source": [
    "def zig_zig_rotation_count(node):\n",
    "    if not node or not node.left or not node.left.left:\n",
    "        return 0\n",
    "    return 1 + zig_zig_rotation_count(node.left) + zig_zig_rotation_count(node.left.left)"
   ]
  },
  {
   "cell_type": "code",
   "execution_count": 47,
   "id": "afda0022",
   "metadata": {},
   "outputs": [],
   "source": [
    "def zig_zag_rotation_count(node):\n",
    "    if not node or not node.left or not node.left.right:\n",
    "        return 0\n",
    "    return 1 + zig_zag_rotation_count(node.left) + zig_zag_rotation_count(node.left.right)"
   ]
  },
  {
   "cell_type": "code",
   "execution_count": 48,
   "id": "def76bbc",
   "metadata": {},
   "outputs": [],
   "source": [
    "single_rotations = single_rotation_count(root)\n",
    "double_rotations = double_rotation_count(root)\n",
    "zig_zig_rotations = zig_zig_rotation_count(root)\n",
    "zig_zag_rotations = zig_zag_rotation_count(root)"
   ]
  },
  {
   "cell_type": "code",
   "execution_count": 49,
   "id": "d23f65f2",
   "metadata": {},
   "outputs": [
    {
     "name": "stdout",
     "output_type": "stream",
     "text": [
      "Одиничні обертання: 1001209\n",
      "Подвійні обертання: 334498\n",
      "ZigZig обертання: 6764\n",
      "ZigZag обертання: 1070\n"
     ]
    }
   ],
   "source": [
    "print(f\"Одиничні обертання: {single_rotations}\")\n",
    "print(f\"Подвійні обертання: {double_rotations}\")\n",
    "print(f\"ZigZig обертання: {zig_zig_rotations}\")\n",
    "print(f\"ZigZag обертання: {zig_zag_rotations}\")"
   ]
  },
  {
   "cell_type": "code",
   "execution_count": 50,
   "id": "f889fc9a",
   "metadata": {},
   "outputs": [],
   "source": [
    "normalized_single_rotations = single_rotations / len(shuffled_operations)\n",
    "normalized_double_rotations = double_rotations / len(shuffled_operations)\n",
    "normalized_zig_zig_rotations = zig_zig_rotations / len(shuffled_operations)\n",
    "normalized_zig_zag_rotations = zig_zag_rotations / len(shuffled_operations)"
   ]
  },
  {
   "cell_type": "code",
   "execution_count": 51,
   "id": "01cffc7d",
   "metadata": {},
   "outputs": [
    {
     "name": "stdout",
     "output_type": "stream",
     "text": [
      "Нормовані одиничні обертання: 6.6747266666666665\n",
      "Нормовані подвійні обертання: 2.2299866666666666\n",
      "Нормовані ZigZig обертання: 0.04509333333333333\n",
      "Нормовані ZigZag обертання: 0.0071333333333333335\n"
     ]
    }
   ],
   "source": [
    "print(f\"Нормовані одиничні обертання: {normalized_single_rotations}\")\n",
    "print(f\"Нормовані подвійні обертання: {normalized_double_rotations}\")\n",
    "print(f\"Нормовані ZigZig обертання: {normalized_zig_zig_rotations}\")\n",
    "print(f\"Нормовані ZigZag обертання: {normalized_zig_zag_rotations}\")"
   ]
  },
  {
   "cell_type": "code",
   "execution_count": null,
   "id": "b7965e33",
   "metadata": {},
   "outputs": [],
   "source": []
  }
 ],
 "metadata": {
  "kernelspec": {
   "display_name": "Python 3 (ipykernel)",
   "language": "python",
   "name": "python3"
  },
  "language_info": {
   "codemirror_mode": {
    "name": "ipython",
    "version": 3
   },
   "file_extension": ".py",
   "mimetype": "text/x-python",
   "name": "python",
   "nbconvert_exporter": "python",
   "pygments_lexer": "ipython3",
   "version": "3.11.5"
  }
 },
 "nbformat": 4,
 "nbformat_minor": 5
}
