{
 "cells": [
  {
   "cell_type": "code",
   "execution_count": 1,
   "id": "603f4eab",
   "metadata": {},
   "outputs": [],
   "source": [
    "import cv2\n",
    "import numpy as np"
   ]
  },
  {
   "cell_type": "code",
   "execution_count": 2,
   "id": "f8aa7fa1",
   "metadata": {},
   "outputs": [],
   "source": [
    "def apply_low_pass_filter(image, k):\n",
    "    \n",
    "    kernel = np.ones((k, k), np.float32) / (k * k)\n",
    "    result = cv2.filter2D(image, -1, kernel)\n",
    "\n",
    "    return result"
   ]
  },
  {
   "cell_type": "code",
   "execution_count": null,
   "id": "c4f95f59",
   "metadata": {},
   "outputs": [],
   "source": [
    "image_path = r'C:\\image.jpg'\n",
    "original_image = cv2.imread(image_path)\n",
    "\n",
    "result_k1 = apply_low_pass_filter(original_image, k=1)\n",
    "\n",
    "result_k2 = apply_low_pass_filter(original_image, k=2)\n",
    "\n",
    "cv2.imshow('Original Image', original_image)\n",
    "cv2.imshow('Low-pass Filter (k=1)', result_k1)\n",
    "cv2.imshow('Low-pass Filter (k=2)', result_k2)\n",
    "\n",
    "cv2.waitKey(0)\n",
    "cv2.destroyAllWindows()"
   ]
  },
  {
   "cell_type": "code",
   "execution_count": null,
   "id": "fa31eabf",
   "metadata": {},
   "outputs": [],
   "source": []
  }
 ],
 "metadata": {
  "kernelspec": {
   "display_name": "Python 3 (ipykernel)",
   "language": "python",
   "name": "python3"
  },
  "language_info": {
   "codemirror_mode": {
    "name": "ipython",
    "version": 3
   },
   "file_extension": ".py",
   "mimetype": "text/x-python",
   "name": "python",
   "nbconvert_exporter": "python",
   "pygments_lexer": "ipython3",
   "version": "3.11.5"
  }
 },
 "nbformat": 4,
 "nbformat_minor": 5
}
